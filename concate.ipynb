{
 "cells": [
  {
   "cell_type": "code",
   "execution_count": 2,
   "metadata": {},
   "outputs": [
    {
     "name": "stdout",
     "output_type": "stream",
     "text": [
      "Данные успешно объединены в файл: /Users/evgenijselisev/Downloads/afkcourse.csv\n"
     ]
    }
   ],
   "source": [
    "import pandas as pd\n",
    "import glob\n",
    "import os\n",
    "\n",
    "def txt_to_csv(input_dir, output_file, max_lines_per_category=5000):\n",
    "    \n",
    "    txt_files = glob.glob(input_dir + \"/*.txt\")\n",
    "\n",
    "    data = []\n",
    "    targets = []\n",
    "\n",
    "    \n",
    "    file_targets = {\n",
    "        'voda': 'vod',\n",
    "        'mos': 'moskva',\n",
    "        'zdm4all': 'zd'\n",
    "    }\n",
    "\n",
    " \n",
    "    for file in txt_files:\n",
    "        \n",
    "        with open(file, 'r', encoding='utf-8') as f:\n",
    "            lines = f.readlines()[:max_lines_per_category] \n",
    "            data.extend(lines)\n",
    "        \n",
    "       \n",
    "        filename = os.path.basename(file)\n",
    "        target = None\n",
    "        for substring, label in file_targets.items():\n",
    "            if substring in filename:\n",
    "                target = label\n",
    "                break\n",
    "        targets.extend([target] * min(len(lines), max_lines_per_category))  \n",
    "\n",
    " \n",
    "    df = pd.DataFrame({'target': targets, 'text': data})\n",
    "\n",
    "   \n",
    "    df.to_csv(output_file, index=False)\n",
    "\n",
    "    print(f\"Данные успешно объединены в файл: {output_file}\")\n",
    "\n",
    "input_dir = \"/Users/evgenijselisev/Desktop/курсач /группы\"\n",
    "output_file = \"/Users/evgenijselisev/Downloads/afkcourse.csv\"\n",
    "txt_to_csv(input_dir, output_file)\n"
   ]
  }
 ],
 "metadata": {
  "kernelspec": {
   "display_name": "base",
   "language": "python",
   "name": "python3"
  },
  "language_info": {
   "codemirror_mode": {
    "name": "ipython",
    "version": 3
   },
   "file_extension": ".py",
   "mimetype": "text/x-python",
   "name": "python",
   "nbconvert_exporter": "python",
   "pygments_lexer": "ipython3",
   "version": "3.10.9"
  }
 },
 "nbformat": 4,
 "nbformat_minor": 2
}
